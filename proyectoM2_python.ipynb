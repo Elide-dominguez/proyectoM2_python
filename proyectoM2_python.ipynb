{
  "nbformat": 4,
  "nbformat_minor": 0,
  "metadata": {
    "colab": {
      "provenance": []
    },
    "kernelspec": {
      "name": "python3",
      "display_name": "Python 3"
    },
    "language_info": {
      "name": "python"
    }
  },
  "cells": [
    {
      "cell_type": "code",
      "execution_count": null,
      "metadata": {
        "id": "_TgjslxStQl3"
      },
      "outputs": [],
      "source": [
        "###########################\n",
        "# Reto 1 Validacion y operaciones de datos\n",
        "###########################\n",
        "\n",
        "def validar_longitud_palabra(palabra): #variable a utilizar\n",
        "\n",
        "    longitud = len(palabra) #medimos longitud de la palabra\n",
        "\n",
        "    if 4 <= longitud <= 8: #condicionamos que la palabra tenga entre 4 y 8 letras\n",
        "        print(f\"La palabra es correcta. Tiene {longitud} letras.\")  #si la palabra es correcta imprime el mensaje\n",
        "    elif longitud < 4: #La palabra es menor de 4 letras\n",
        "        print(f\"La palabra es incorrecta. Hacen falta letras. Solo tiene {longitud} letras.\")\n",
        "    else:\n",
        "        print(f\"Error. Sobran letras. Tiene {longitud} letras. \")  #Si las condiciones no se cumplen imprime error\n",
        "\n",
        "\n",
        "################################\n",
        "#RETO 2 Encuentra el cuadrante\n",
        "################################\n",
        "\n",
        "def identificar_cuadrante(x, y): #definimos variable\n",
        "    if x == 0 or y == 0:\n",
        "        print(\"Error: Las coordenadas no pueden tener ceros.\")\n",
        "        return\n",
        "\n",
        "    #definimos condiciones de x and y\n",
        "    if x > 0 and y > 0:\n",
        "        print(\"El punto se encuentra en el cuadrante I.\")\n",
        "    elif x < 0 and y > 0:\n",
        "        print(\"El punto de encuentra en el cuadrante II.\")\n",
        "    elif x < 0 and y < 0:\n",
        "        print(\"El punto de encuentra en el cuadrante III.\")\n",
        "    elif x > 0 and y < 0:\n",
        "        print(\"El punto se encuentra en el cuadrane IV.\")\n",
        "\n",
        "#Se imprime un Menu para el usuario\n",
        "def main():\n",
        "\n",
        "    while True:\n",
        "        print(\"\\n*** Proyecto M2: Fundamentos de Python. ***\")\n",
        "        print(\"1. Validar longitud de una palabra.\")\n",
        "        print(\"2. Encuentra el cuadrante de un punto.\")\n",
        "        print(\"3. Salir.\")\n",
        "\n",
        "        opcion = input(\"Selecciona una opcion (1-3): \") #Debe elegir una opcion entre 1 y 3\n",
        "\n",
        "        #Lo que hace cada opcion del menu\n",
        "        if opcion == '1':\n",
        "            palabra = input(\"Ingresa una palabra: \").strip()\n",
        "            validar_longitud_palabra(palabra)\n",
        "\n",
        "        elif opcion == '2':\n",
        "            try:\n",
        "                x = int(input(\"Ingresa la coordenada x: \"))\n",
        "                y = int(input(\"Ingresa la coordenada y: \"))\n",
        "                identificar_cuadrante(x, y)\n",
        "            except ValueError:\n",
        "                print(\"Error: Ingresa numeros enteros validos por favor\")\n",
        "\n",
        "        elif opcion == '3':\n",
        "            print(\"Gracias por usar nuestro programa. ¡Buen dia!\")\n",
        "            break\n",
        "\n",
        "        else:\n",
        "            print(\"Elige una opcion correcta. Intenta de nuevo\")\n",
        "\n",
        "#Entrada\n",
        "if __name__ == \"__main__\":\n",
        "    main()"
      ]
    }
  ]
}